{
 "cells": [
  {
   "cell_type": "code",
   "execution_count": 1,
   "metadata": {
    "id": "EYrltldYH_Tg"
   },
   "outputs": [],
   "source": [
    "import seisbench.models as sbm\n",
    "\n",
    "from scripts.evaluate import experiment"
   ]
  },
  {
   "cell_type": "code",
   "execution_count": 2,
   "metadata": {},
   "outputs": [
    {
     "name": "stdout",
     "output_type": "stream",
     "text": [
      "0/4935\n",
      "100/4935\n",
      "200/4935\n",
      "300/4935\n",
      "400/4935\n",
      "500/4935\n",
      "600/4935\n",
      "700/4935\n",
      "800/4935\n",
      "900/4935\n",
      "1000/4935\n",
      "1100/4935\n",
      "1200/4935\n",
      "1300/4935\n",
      "1400/4935\n",
      "1500/4935\n",
      "1600/4935\n",
      "1700/4935\n",
      "1800/4935\n",
      "1900/4935\n",
      "2000/4935\n",
      "2100/4935\n",
      "2200/4935\n",
      "2300/4935\n",
      "2400/4935\n",
      "2500/4935\n",
      "2600/4935\n",
      "2700/4935\n",
      "2800/4935\n",
      "2900/4935\n",
      "3000/4935\n",
      "3100/4935\n",
      "3200/4935\n",
      "3300/4935\n",
      "3400/4935\n",
      "3500/4935\n",
      "3600/4935\n",
      "3700/4935\n",
      "3800/4935\n",
      "3900/4935\n",
      "4000/4935\n",
      "4100/4935\n",
      "4200/4935\n",
      "4300/4935\n",
      "4400/4935\n",
      "4500/4935\n",
      "4600/4935\n",
      "4700/4935\n",
      "4800/4935\n",
      "4900/4935\n",
      "14.062112120406937\n"
     ]
    }
   ],
   "source": [
    "# Default：DeepDenoiserでの実験\n",
    "model = sbm.DeepDenoiser.from_pretrained(\"original\")\n",
    "\n",
    "experiment(model, \"DeepDenoiser\")"
   ]
  },
  {
   "cell_type": "code",
   "execution_count": null,
   "metadata": {},
   "outputs": [],
   "source": []
  }
 ],
 "metadata": {
  "colab": {
   "provenance": []
  },
  "kernelspec": {
   "display_name": ".venv",
   "language": "python",
   "name": "python3"
  },
  "language_info": {
   "codemirror_mode": {
    "name": "ipython",
    "version": 3
   },
   "file_extension": ".py",
   "mimetype": "text/x-python",
   "name": "python",
   "nbconvert_exporter": "python",
   "pygments_lexer": "ipython3",
   "version": "3.11.4"
  }
 },
 "nbformat": 4,
 "nbformat_minor": 0
}
